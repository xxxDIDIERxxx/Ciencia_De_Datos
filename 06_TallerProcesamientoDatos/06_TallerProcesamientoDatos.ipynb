{
  "nbformat": 4,
  "nbformat_minor": 0,
  "metadata": {
    "colab": {
      "provenance": []
    },
    "kernelspec": {
      "name": "python3",
      "display_name": "Python 3"
    },
    "language_info": {
      "name": "python"
    }
  },
  "cells": [
    {
      "cell_type": "code",
      "source": [
        "!pip install pandas-profiling[notebook]"
      ],
      "metadata": {
        "id": "Ka7Npx2mK4_k"
      },
      "execution_count": null,
      "outputs": []
    },
    {
      "cell_type": "code",
      "source": [
        "import pandas as pd\n",
        "from pandas_profiling import ProfileReport\n",
        "import matplotlib.pyplot as plt\n",
        "import seaborn as sns"
      ],
      "metadata": {
        "id": "aFztuGO-F1_A"
      },
      "execution_count": null,
      "outputs": []
    },
    {
      "cell_type": "code",
      "execution_count": 4,
      "metadata": {
        "id": "uDCTrq86YVZO"
      },
      "outputs": [],
      "source": [
        "# Lee los archivos Excel\n",
        "df01 = pd.read_excel('/content/DatosP01.xlsx')\n",
        "df02 = pd.read_excel('/content/DatosP02.xlsx')\n",
        "\n",
        "#combina los df usando la columna \"Id\" como clave\n",
        "df_nuevo = pd.merge(df01, df02, on='Id')\n",
        "\n",
        "#guarda los datos combinados en un nuevo archivo Excel\n",
        "df_nuevo.to_excel('df_nuevo.xlsx', index=False)"
      ]
    },
    {
      "cell_type": "code",
      "source": [
        "#Descripcion estadistica inicial\n",
        "report = ProfileReport(df_nuevo)\n",
        "report.to_file(output_file='reporte.html')"
      ],
      "metadata": {
        "id": "8MGJpggHJh5_"
      },
      "execution_count": null,
      "outputs": []
    },
    {
      "cell_type": "code",
      "source": [
        "df = pd.read_excel('/content/df_nuevo.xlsx')"
      ],
      "metadata": {
        "id": "6mwrhoIYWnU4"
      },
      "execution_count": 6,
      "outputs": []
    },
    {
      "cell_type": "code",
      "source": [
        "#mapeo para organizar la informacion\n",
        "mapeo_sexo = {\n",
        "    'Masculino': ['M', 'Masculino'],\n",
        "    'Femenino': ['Femenino', 'Mujer', 'F'],\n",
        "}\n",
        "\n",
        "for sexo_nuevo, sexo_viejo in mapeo_sexo.items():\n",
        "    df.loc[df['Sexo'].isin(sexo_viejo), 'Sexo'] = sexo_nuevo"
      ],
      "metadata": {
        "id": "s8hdM0T2f3q0"
      },
      "execution_count": 7,
      "outputs": []
    },
    {
      "cell_type": "code",
      "source": [
        "#llenar los campos nulos en la columna Trabaja con la moda\n",
        "moda_trabaja = df['Trabaja'].mode().iloc[0]\n",
        "df['Trabaja'] = df['Trabaja'].fillna(moda_trabaja)\n",
        "\n",
        "mapeo_trabaja = {\n",
        "    moda_trabaja: [0]\n",
        "}\n",
        "\n",
        "for trabaja_nuevo, trabaja_viejo in mapeo_trabaja.items():\n",
        "    df.loc[df['Trabaja'].isin(trabaja_viejo), 'Trabaja'] = trabaja_nuevo"
      ],
      "metadata": {
        "id": "iOMeD49ah2mT"
      },
      "execution_count": 8,
      "outputs": []
    },
    {
      "cell_type": "code",
      "source": [
        "#llenar los campos nulos en la columna Tipo de Colegio con la moda\n",
        "moda_TipoColegio = df['Tipo de Colegio'].mode().iloc[0]\n",
        "df['Tipo de Colegio'] = df['Tipo de Colegio'].fillna(moda_TipoColegio)\n",
        "\n",
        "mapeo_TipoColegio = {\n",
        "    moda_TipoColegio: [0]\n",
        "}\n",
        "\n",
        "for TipoColegio_nuevo, TipoColegio_viejo in mapeo_TipoColegio.items():\n",
        "    df.loc[df['Tipo de Colegio'].isin(TipoColegio_viejo), 'Tipo de Colegio'] = TipoColegio_nuevo"
      ],
      "metadata": {
        "id": "Q5p9mlu3lSPD"
      },
      "execution_count": 9,
      "outputs": []
    },
    {
      "cell_type": "code",
      "source": [
        "#llenar los campos nulos en la columna Uso_Lms con la moda\n",
        "moda_Uso_LMS\t = df['Uso_LMS'].mode().iloc[0]\n",
        "df['Uso_LMS'] = df['Uso_LMS'].fillna(moda_Uso_LMS)\n",
        "\n",
        "mapeo_Uso_LMS\t = {\n",
        "    moda_Uso_LMS\t: [0]\n",
        "}\n",
        "\n",
        "for Uso_LMS_nuevo, Uso_LMS_viejo in mapeo_Uso_LMS.items():\n",
        "    df.loc[df['Uso_LMS'].isin(Uso_LMS_viejo), 'Uso_LMS'] = Uso_LMS_nuevo"
      ],
      "metadata": {
        "id": "2Kl7N3y4lrTM"
      },
      "execution_count": 10,
      "outputs": []
    },
    {
      "cell_type": "code",
      "source": [
        "#llenar los campos nulos en la columna Trabaja con la moda\n",
        "moda_trabaja = df['Trabaja'].mode().iloc[0]\n",
        "df['Trabaja'] = df['Trabaja'].fillna(moda_trabaja)\n",
        "\n",
        "mapeo_trabaja = {\n",
        "    moda_trabaja: [0]\n",
        "}\n",
        "\n",
        "for trabaja_nuevo, trabaja_viejo in mapeo_trabaja.items():\n",
        "    df.loc[df['Trabaja'].isin(trabaja_viejo), 'Trabaja'] = trabaja_nuevo"
      ],
      "metadata": {
        "id": "PfzvBgKumPmb"
      },
      "execution_count": 11,
      "outputs": []
    },
    {
      "cell_type": "code",
      "source": [
        "#llenar los campos nulos en la columna Ubicacion con la moda\n",
        "moda_Ubicacion = df['Ubicacion'].mode().iloc[0]\n",
        "df['Ubicacion'] = df['Ubicacion'].fillna(moda_Ubicacion)\n",
        "\n",
        "mapeo_Ubicacion = {\n",
        "    moda_Ubicacion: [0]\n",
        "}\n",
        "\n",
        "for Ubicacion_nuevo, Ubicacion_viejo in mapeo_Ubicacion.items():\n",
        "    df.loc[df['Ubicacion'].isin(Ubicacion_viejo), 'Ubicacion'] = Ubicacion_nuevo"
      ],
      "metadata": {
        "id": "yZnZXgO3nqFL"
      },
      "execution_count": 12,
      "outputs": []
    },
    {
      "cell_type": "code",
      "source": [
        "#llenar los campos nulos en la columna Enfermedad con la moda\n",
        "moda_Enfermedad = df['Enfermedad'].mode().iloc[0]\n",
        "df['Enfermedad'] = df['Enfermedad'].fillna(moda_Enfermedad)\n",
        "\n",
        "mapeo_Enfermedad = {\n",
        "    moda_Enfermedad: [0]\n",
        "}\n",
        "\n",
        "for Enfermedad_nuevo, Enfermedad_viejo in mapeo_Enfermedad.items():\n",
        "    df.loc[df['Enfermedad'].isin(Enfermedad_viejo), 'Enfermedad'] = Enfermedad_nuevo"
      ],
      "metadata": {
        "id": "BU_NVcMBkdPd"
      },
      "execution_count": 13,
      "outputs": []
    },
    {
      "cell_type": "code",
      "source": [
        "#llenar los campos nulos en la columna Entregas_Completas con la moda\n",
        "moda_Entregas_Completas = df['Entregas_Completas'].mode().iloc[0]\n",
        "df['Entregas_Completas'] = df['Entregas_Completas'].fillna(moda_Entregas_Completas)\n",
        "\n",
        "mapeo_Entregas_Completas = {\n",
        "    moda_Entregas_Completas: [' ']\n",
        "}\n",
        "\n",
        "for Entregas_Completas_nuevo, Entregas_Completas_viejo in mapeo_Entregas_Completas.items():\n",
        "    df.loc[df['Entregas_Completas'].isin(Entregas_Completas_viejo), 'Entregas_Completas'] = Entregas_Completas_nuevo"
      ],
      "metadata": {
        "id": "dsH7H1y4oDJC"
      },
      "execution_count": 14,
      "outputs": []
    },
    {
      "cell_type": "code",
      "source": [
        "#llenar los campos nulos en la columna Entregas_Completas con la moda\n",
        "moda_Entregas_Completas = df['Entregas_Completas'].mode().iloc[0]\n",
        "df['Entregas_Completas'] = df['Entregas_Completas'].fillna(moda_Entregas_Completas)\n",
        "\n",
        "mapeo_Entregas_Completas = {\n",
        "    moda_Entregas_Completas: [0]\n",
        "}\n",
        "\n",
        "for Entregas_Completas_nuevo, Entregas_Completas_viejo in mapeo_Entregas_Completas.items():\n",
        "    df.loc[df['Entregas_Completas'].isin(Entregas_Completas_viejo), 'Entregas_Completas'] = Entregas_Completas_nuevo"
      ],
      "metadata": {
        "id": "0VDj8zrNlalc"
      },
      "execution_count": 15,
      "outputs": []
    },
    {
      "cell_type": "code",
      "source": [
        "mapeo_Asistencia = {\n",
        "    0.30: [-0.30]\n",
        "}\n",
        "\n",
        "for Asistencia_nuevo, Asistencia_viejo in mapeo_Asistencia.items():\n",
        "    df.loc[df['Asistencia'].isin(Asistencia_viejo), 'Asistencia'] = Asistencia_nuevo"
      ],
      "metadata": {
        "id": "9kFzI-KLoSj8"
      },
      "execution_count": 16,
      "outputs": []
    },
    {
      "cell_type": "code",
      "source": [
        "df = df.drop(columns=['FechaNacimiento'])\n",
        "df = df.drop(columns=['Id'])\n",
        "df = df.drop(columns=['Nombre'])"
      ],
      "metadata": {
        "id": "uPUSUipWVKtd"
      },
      "execution_count": 17,
      "outputs": []
    },
    {
      "cell_type": "code",
      "source": [
        "#nueva columna 'Promedio'\n",
        "df['Promedio'] = (df['Sistemas'] + df['Matematicas'] + df['Ingles'] + df['Comunicación'] ) / 4"
      ],
      "metadata": {
        "id": "KbaH28pVcWWT"
      },
      "execution_count": 18,
      "outputs": []
    },
    {
      "cell_type": "code",
      "source": [
        "#Descripcion estadistica final\n",
        "report = ProfileReport(df)\n",
        "report.to_file(output_file='reporte_final.html')"
      ],
      "metadata": {
        "id": "qHzm7Uh-o-R8"
      },
      "execution_count": null,
      "outputs": []
    },
    {
      "cell_type": "code",
      "source": [
        "#nueva columna 'Aprobo'\n",
        "df.loc[df['Promedio'] > 3.5, ['Aprobo']] = 'SI'\n",
        "df.loc[df['Promedio'] <= 3.5, ['Aprobo']] = 'NO'"
      ],
      "metadata": {
        "id": "6YIqCMtcvvwc"
      },
      "execution_count": 20,
      "outputs": []
    },
    {
      "cell_type": "code",
      "source": [
        "def calcular_porcentaje(count, total):\n",
        "    return (count / total) * 100\n",
        "\n",
        "# Total de aprendices que aprobaron\n",
        "total_aprobo = df[df['Aprobo'] == 'SI']['Aprobo'].count()\n",
        "\n",
        "# Total de aprendices que no aprobaron\n",
        "total_no_aprobo = df[df['Aprobo'] == 'NO']['Aprobo'].count()\n",
        "\n",
        "# Total de aprendices\n",
        "total_aprendices = total_aprobo + total_no_aprobo\n",
        "\n",
        "# Calcular porcentajes de aprobación y no aprobación\n",
        "porcentaje_total_aprobo = calcular_porcentaje(total_aprobo, total_aprendices)\n",
        "porcentaje_no_atotal_no_aprobo = calcular_porcentaje(total_no_aprobo, total_aprendices)\n",
        "\n",
        "# Crear una gráfica de torta para el porcentaje de aprobación y no aprobación\n",
        "labels = ['Aprobados', 'No Aprobados']\n",
        "sizes = [porcentaje_total_aprobo, porcentaje_no_atotal_no_aprobo]\n",
        "colors = ['green', 'red']\n",
        "explode = (0.1, 0)  # Para resaltar la sección de \"Aprobados\"\n",
        "\n",
        "plt.figure(figsize=(8, 6))\n",
        "plt.pie(sizes, labels=labels, colors=colors, autopct='%1.1f%%', startangle=140, explode=explode)\n",
        "plt.title('Porcentaje de aprendices Aprobados y No Aprobados')\n",
        "plt.axis('equal')  # Aspecto circular\n",
        "plt.show()"
      ],
      "metadata": {
        "id": "GC81c-4LcWck"
      },
      "execution_count": null,
      "outputs": []
    },
    {
      "cell_type": "code",
      "source": [
        "#mapeo para organizar la informacion\n",
        "mapeo_Uso_LMS\t= {\n",
        "    'Alta': ['ALTA', 'alta'],\n",
        "    'Media': ['MEDIA', 'media'],\n",
        "    'Baja': ['BAJA', 'baja'],\n",
        "}\n",
        "\n",
        "for Uso_LMS_nuevo, Uso_LMS_viejo in mapeo_Uso_LMS.items():\n",
        "    df.loc[df['Uso_LMS'].isin(Uso_LMS_viejo), 'Uso_LMS'] = Uso_LMS_nuevo"
      ],
      "metadata": {
        "id": "BV6BW4CUgvwp"
      },
      "execution_count": 22,
      "outputs": []
    },
    {
      "cell_type": "code",
      "source": [
        "# Gráfico de dispersión para ver la relación entre Asistencia y Entregas Completas\n",
        "plt.figure(figsize=(10, 6))\n",
        "sns.scatterplot(x='Asistencia', y='Entregas_Completas', data=df, hue='Aprobo')\n",
        "plt.title('Relación entre Asistencia y Entregas Completas')\n",
        "plt.xlabel('Asistencia')\n",
        "plt.ylabel('Entregas Completas')\n",
        "plt.show()\n",
        "\n",
        "print(\"\\n\")\n",
        "\n",
        "# Crear un df solo con las variables numéricas para calcular la matriz de correlación\n",
        "numeric_columns = ['Asistencia', 'Entregas_Completas', 'Sistemas', 'Matematicas', 'Ingles', 'Comunicación']\n",
        "correlation_df = df[numeric_columns]\n",
        "\n",
        "# Calcular la matriz de correlación\n",
        "correlation_matrix = correlation_df.corr()\n",
        "\n",
        "# Crear un heatmap de correlación\n",
        "plt.figure(figsize=(10, 8))\n",
        "sns.heatmap(correlation_matrix, annot=True, cmap='coolwarm', center=0)\n",
        "plt.title('Heatmap de Correlación entre Variables Numéricas')\n",
        "plt.show()"
      ],
      "metadata": {
        "id": "bSG0h9Arc23C"
      },
      "execution_count": null,
      "outputs": []
    },
    {
      "cell_type": "code",
      "source": [
        "def calcular_porcentaje(count, total):\n",
        "    return (count / total) * 100\n",
        "\n",
        "# Total de aprendices\n",
        "total_aprendices = len(df)\n",
        "\n",
        "# Total de aprendices que aprobaron\n",
        "total_aprobo = df[df['Aprobo'] == 'SI']['Aprobo'].count()\n",
        "\n",
        "# Total de aprendices que no aprobaron\n",
        "total_no_aprobo = df[df['Aprobo'] == 'NO']['Aprobo'].count()\n",
        "\n",
        "print(f\"Total de aprendices: {total_aprendices}\")\n",
        "\n",
        "print(\"\\n\")\n",
        "\n",
        "print(f\"Total de aprendices aprobados: {total_aprobo}\")\n",
        "print(f\"Total de aprendices no aprobados: {total_no_aprobo}\")\n",
        "\n",
        "print(\"\\n\")\n",
        "\n",
        "# Porcentaje de aprobación y no aprobación\n",
        "porcentaje_aprobo = calcular_porcentaje(total_aprobo, total_aprendices)\n",
        "porcentaje_no_aprobo = calcular_porcentaje(total_no_aprobo, total_aprendices)\n",
        "\n",
        "print(f\"Porcentaje de aprendices aprobados: {porcentaje_aprobo:.2f}%\")\n",
        "print(f\"Porcentaje de aprendices no aprobados: {porcentaje_no_aprobo:.2f}%\")\n",
        "\n",
        "print(\"\\n\")\n",
        "\n",
        "# Porcentaje de género (Masculino)\n",
        "genero_porcentaje_aprobo = calcular_porcentaje(df[df['Aprobo'] == 'SI']['Sexo'].value_counts()['Masculino'], total_aprobo)\n",
        "genero_porcentaje_no_aprobo = calcular_porcentaje(df[df['Aprobo'] == 'NO']['Sexo'].value_counts()['Masculino'], total_no_aprobo)\n",
        "\n",
        "print(f\"Porcentaje de aprendices aprobados por género (Masculino): {genero_porcentaje_aprobo:.2f}%\")\n",
        "print(f\"Porcentaje de aprendices no aprobados por género (Masculino): {genero_porcentaje_no_aprobo:.2f}%\")\n",
        "\n",
        "# Porcentaje de género (Femenino)\n",
        "genero_porcentaje_aprobo = calcular_porcentaje(df[df['Aprobo'] == 'SI']['Sexo'].value_counts()['Femenino'], total_aprobo)\n",
        "genero_porcentaje_no_aprobo = calcular_porcentaje(df[df['Aprobo'] == 'NO']['Sexo'].value_counts()['Femenino'], total_no_aprobo)\n",
        "\n",
        "print(f\"Porcentaje de aprendices aprobados por género (Femenino): {genero_porcentaje_aprobo:.2f}%\")\n",
        "print(f\"Porcentaje de aprendices no aprobados por género (Femenino): {genero_porcentaje_no_aprobo:.2f}%\")\n",
        "\n",
        "print(\"\\n\")\n",
        "# Porcentaje de estrato 1\n",
        "#estrato_porcentaje_aprobo = calcular_porcentaje(df[df['Aprobo'] == 'SI']['Estrato'].value_counts(normalize=True)[1], total_aprobo)\n",
        "#estrato_porcentaje_no_aprobo = calcular_porcentaje(df[df['Aprobo'] == 'NO']['Estrato'].value_counts(normalize=True)[1], total_no_aprobo)\n",
        "#print(f\"Porcentaje de aprendices aprobados por estrato (Estrato 2): {estrato_porcentaje_aprobo:.2f}%\")\n",
        "#print(f\"Porcentaje de aprendices no aprobados por estrato (Estrato 2): {estrato_porcentaje_no_aprobo:.2f}%\")\n",
        "\n",
        "# Porcentaje de estrato 2\n",
        "estrato_porcentaje_aprobo = calcular_porcentaje(df[df['Aprobo'] == 'SI']['Estrato'].value_counts(normalize=True)[2], total_aprobo)\n",
        "estrato_porcentaje_no_aprobo = calcular_porcentaje(df[df['Aprobo'] == 'NO']['Estrato'].value_counts(normalize=True)[2], total_no_aprobo)\n",
        "\n",
        "print(f\"Porcentaje de aprendices aprobados por estrato (Estrato 2): {estrato_porcentaje_aprobo:.2f}%\")\n",
        "print(f\"Porcentaje de aprendices no aprobados por estrato (Estrato 2): {estrato_porcentaje_no_aprobo:.2f}%\")\n",
        "\n",
        "# Porcentaje de estrato 3\n",
        "estrato_porcentaje_aprobo = calcular_porcentaje(df[df['Aprobo'] == 'SI']['Estrato'].value_counts(normalize=True)[3], total_aprobo)\n",
        "estrato_porcentaje_no_aprobo = calcular_porcentaje(df[df['Aprobo'] == 'NO']['Estrato'].value_counts(normalize=True)[3], total_no_aprobo)\n",
        "\n",
        "print(f\"Porcentaje de aprendices aprobados por estrato (Estrato 3): {estrato_porcentaje_aprobo:.2f}%\")\n",
        "print(f\"Porcentaje de aprendices no aprobados por estrato (Estrato 3): {estrato_porcentaje_no_aprobo:.2f}%\")\n",
        "\n",
        "# Porcentaje de estrato 4\n",
        "estrato_porcentaje_aprobo = calcular_porcentaje(df[df['Aprobo'] == 'SI']['Estrato'].value_counts(normalize=True)[4], total_aprobo)\n",
        "estrato_porcentaje_no_aprobo = calcular_porcentaje(df[df['Aprobo'] == 'NO']['Estrato'].value_counts(normalize=True)[4], total_no_aprobo)\n",
        "\n",
        "print(f\"Porcentaje de aprendices aprobados por estrato (Estrato 4): {estrato_porcentaje_aprobo:.2f}%\")\n",
        "print(f\"Porcentaje de aprendices no aprobados por estrato (Estrato 4): {estrato_porcentaje_no_aprobo:.2f}%\")\n",
        "\n",
        "print(\"\\n\")\n",
        "\n",
        "# Porcentaje de uso de LMS\n",
        "lms_porcentaje_aprobo = calcular_porcentaje(df[df['Aprobo'] == 'SI']['Uso_LMS'].value_counts(normalize=True)['Alta'], total_aprobo)\n",
        "lms_porcentaje_no_aprobo = calcular_porcentaje(df[df['Aprobo'] == 'NO']['Uso_LMS'].value_counts(normalize=True)['Alta'], total_no_aprobo)\n",
        "\n",
        "print(f\"Porcentaje de aprendices aprobados por uso de LMS (Alto): {lms_porcentaje_aprobo:.2f}%\")\n",
        "print(f\"Porcentaje de aprendices no aprobados por uso de LMS (Alto): {lms_porcentaje_no_aprobo:.2f}%\")\n",
        "\n",
        "lms_porcentaje_aprobo = calcular_porcentaje(df[df['Aprobo'] == 'SI']['Uso_LMS'].value_counts(normalize=True)['Media'], total_aprobo)\n",
        "lms_porcentaje_no_aprobo = calcular_porcentaje(df[df['Aprobo'] == 'NO']['Uso_LMS'].value_counts(normalize=True)['Media'], total_no_aprobo)\n",
        "\n",
        "print(f\"Porcentaje de aprendices aprobados por uso de LMS (Medio): {lms_porcentaje_aprobo:.2f}%\")\n",
        "print(f\"Porcentaje de aprendices no aprobados por uso de LMS (Medio): {lms_porcentaje_no_aprobo:.2f}%\")\n",
        "\n",
        "lms_porcentaje_aprobo = calcular_porcentaje(df[df['Aprobo'] == 'SI']['Uso_LMS'].value_counts(normalize=True)['Baja'], total_aprobo)\n",
        "lms_porcentaje_no_aprobo = calcular_porcentaje(df[df['Aprobo'] == 'NO']['Uso_LMS'].value_counts(normalize=True)['Baja'], total_no_aprobo)\n",
        "\n",
        "print(f\"Porcentaje de aprendices aprobados por uso de LMS (Bajo): {lms_porcentaje_aprobo:.2f}%\")\n",
        "print(f\"Porcentaje de aprendices no aprobados por uso de LMS (Bajo): {lms_porcentaje_no_aprobo:.2f}%\")"
      ],
      "metadata": {
        "id": "sIG-1wgIilYL"
      },
      "execution_count": null,
      "outputs": []
    },
    {
      "cell_type": "code",
      "source": [
        "df"
      ],
      "metadata": {
        "id": "Mdm6s8mTVTdA"
      },
      "execution_count": null,
      "outputs": []
    }
  ]
}